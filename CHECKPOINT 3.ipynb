{
 "cells": [
  {
   "cell_type": "markdown",
   "id": "9aec323d",
   "metadata": {},
   "source": [
    "QUESTION 1"
   ]
  },
  {
   "cell_type": "code",
   "execution_count": 21,
   "id": "59e790da",
   "metadata": {},
   "outputs": [
    {
     "name": "stdout",
     "output_type": "stream",
     "text": [
      "Result = 36\n"
     ]
    }
   ],
   "source": [
    "def multiply_list_item (lst):\n",
    "    result=1\n",
    "    for i in lst:\n",
    "        result = result*i\n",
    "    return result \n",
    "\n",
    "lste= [2,3,6]\n",
    "result = multiply_list_item(lste)\n",
    "print(\"Result =\",result)"
   ]
  },
  {
   "cell_type": "markdown",
   "id": "f99b26df",
   "metadata": {},
   "source": [
    "QUESTION 2"
   ]
  },
  {
   "cell_type": "code",
   "execution_count": 34,
   "id": "34e6b561",
   "metadata": {},
   "outputs": [
    {
     "name": "stdout",
     "output_type": "stream",
     "text": [
      "[(2, 1), (1, 2), (2, 3), (4, 4), (2, 5)]\n"
     ]
    }
   ],
   "source": [
    "def sort_list_by_last_element (tuples_list):\n",
    "    sorted_list= sorted(tuples_list, key=lambda x: x[-1])\n",
    "    return sorted_list\n",
    "\n",
    "lst = [(2, 5),(1, 2),(4, 4),(2, 3),(2, 1)]\n",
    "sorted_list = sort_list_by_last_element(lst)\n",
    "print(sorted_list)"
   ]
  },
  {
   "cell_type": "markdown",
   "id": "d18be054",
   "metadata": {},
   "source": [
    "QUESTION 3"
   ]
  },
  {
   "cell_type": "code",
   "execution_count": 19,
   "id": "6b62304e",
   "metadata": {},
   "outputs": [
    {
     "name": "stdout",
     "output_type": "stream",
     "text": [
      "{'a': 400, 'b': 400, 'c': 300, 'd': 400}\n"
     ]
    }
   ],
   "source": [
    "def combiner_deux_dictionnaires (d1, d2):\n",
    "    dictionnaire_combine = {}\n",
    "    \n",
    "    #premier dictionnaire \n",
    "    for i in d1:\n",
    "        if i in d2:\n",
    "            dictionnaire_combine[i]= d1[i]+d2[i]\n",
    "        else:\n",
    "            dictionnaire_combine[i]=d1[i]\n",
    "    \n",
    "    #deuxième dictionnaire\n",
    "    for i in d2:\n",
    "        if i not in d1:\n",
    "            dictionnaire_combine[i]=d2[i]\n",
    "    \n",
    "    return dictionnaire_combine\n",
    "\n",
    "d1 = {'a': 100, 'b': 200, 'c': 300}\n",
    "d2 = {'a': 300, 'b': 200, 'd': 400}\n",
    "\n",
    "combine= combiner_deux_dictionnaires (d1, d2)\n",
    "print(combine)"
   ]
  },
  {
   "cell_type": "markdown",
   "id": "cb822b5e",
   "metadata": {},
   "source": [
    "QUESTION 4"
   ]
  },
  {
   "cell_type": "code",
   "execution_count": 26,
   "id": "e3dd824a",
   "metadata": {},
   "outputs": [
    {
     "name": "stdout",
     "output_type": "stream",
     "text": [
      "{1: 1, 2: 4, 3: 9, 4: 16, 5: 25, 6: 36, 7: 49, 8: 64, 9: 81, 10: 100}\n"
     ]
    }
   ],
   "source": [
    "def generate_dictionary(n):\n",
    "    result_dict = {}\n",
    "\n",
    "    for i in range(1, n+1):\n",
    "        result_dict[i] = i*i\n",
    "\n",
    "    return result_dict\n",
    "\n",
    "# Exemple d'utilisation avec une entrée de 10\n",
    "n = 10\n",
    "squared_dict = generate_dictionary(n)\n",
    "print(squared_dict)"
   ]
  },
  {
   "cell_type": "markdown",
   "id": "9e667513",
   "metadata": {},
   "source": [
    "QUESTION 5 "
   ]
  },
  {
   "cell_type": "code",
   "execution_count": 35,
   "id": "e40036b4",
   "metadata": {},
   "outputs": [
    {
     "name": "stdout",
     "output_type": "stream",
     "text": [
      "[('item1', '12.20'), ('item2', '15.10'), ('item3', '24.5')]\n"
     ]
    }
   ],
   "source": [
    "def sort_list_by_float_element (tuples_list):\n",
    "    sorted_list= sorted(tuples_list, key=lambda x: float(x[1]))\n",
    "    return sorted_list\n",
    "\n",
    "lst = [('item1', '12.20'), ('item2', '15.10'), ('item3', '24.5')]\n",
    "sorted_list = sort_list_by_last_element(lst)\n",
    "print(sorted_list)"
   ]
  },
  {
   "cell_type": "markdown",
   "id": "bdab35e6",
   "metadata": {},
   "source": [
    "QUESTION 6"
   ]
  },
  {
   "cell_type": "markdown",
   "id": "3441db5a",
   "metadata": {},
   "source": [
    "itérer sur des ensembles."
   ]
  },
  {
   "cell_type": "code",
   "execution_count": 28,
   "id": "5413f8fe",
   "metadata": {},
   "outputs": [
    {
     "name": "stdout",
     "output_type": "stream",
     "text": [
      "0\n",
      "1\n",
      "2\n",
      "3\n",
      "4\n"
     ]
    }
   ],
   "source": [
    "my_set={0,1,2,3,4}\n",
    "\n",
    "for i in my_set:\n",
    "    print(i)"
   ]
  },
  {
   "cell_type": "markdown",
   "id": "e84b43bf",
   "metadata": {},
   "source": [
    "Ajouter et retirer des nombres "
   ]
  },
  {
   "cell_type": "code",
   "execution_count": 31,
   "id": "aefad36e",
   "metadata": {},
   "outputs": [
    {
     "name": "stdout",
     "output_type": "stream",
     "text": [
      "{0, 1, 2, 3, 4, 9}\n"
     ]
    }
   ],
   "source": [
    "my_set={0,1,2,3,4}\n",
    "\n",
    "my_set.add(9)\n",
    "print(my_set)"
   ]
  },
  {
   "cell_type": "code",
   "execution_count": 32,
   "id": "de51ece4",
   "metadata": {},
   "outputs": [
    {
     "name": "stdout",
     "output_type": "stream",
     "text": [
      "{1, 2, 3, 4, 9}\n"
     ]
    }
   ],
   "source": [
    "my_set.remove(0)\n",
    "print(my_set)"
   ]
  }
 ],
 "metadata": {
  "kernelspec": {
   "display_name": "Python 3 (ipykernel)",
   "language": "python",
   "name": "python3"
  },
  "language_info": {
   "codemirror_mode": {
    "name": "ipython",
    "version": 3
   },
   "file_extension": ".py",
   "mimetype": "text/x-python",
   "name": "python",
   "nbconvert_exporter": "python",
   "pygments_lexer": "ipython3",
   "version": "3.10.9"
  }
 },
 "nbformat": 4,
 "nbformat_minor": 5
}
