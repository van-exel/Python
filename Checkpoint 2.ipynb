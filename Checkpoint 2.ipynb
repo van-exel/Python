{
 "cells": [
  {
   "cell_type": "code",
   "execution_count": null,
   "id": "7e42fc38",
   "metadata": {},
   "outputs": [],
   "source": [
    "import random \n",
    "tentative = 5 \n",
    "pc = random.randint(1,100)\n",
    "réponse = pc\n",
    "while tentative !=0 :\n",
    "    joueur = int(input(\"Entrez votre supposition, comprise entre 1 et 100 \"))\n",
    "    if joueur > pc:\n",
    "        print (\"Votre supposition est jugé trop élevé\") \n",
    "        tentative -= 1 \n",
    "        print(f'Nombre de tentatives restantes: {tentative}')\n",
    "    elif joueur == pc:\n",
    "        print (\"Votre supposition est correct\")\n",
    "        print (\"bien joué\")\n",
    "    else :\n",
    "        print (\"votre supposition est jugée trop basse\")\n",
    "        tentative -= 1  \n",
    "        print(f'Nombre de tentatives restantes: {tentative}') \n",
    "print (f'la réponse était {réponse}')"
   ]
  }
 ],
 "metadata": {
  "kernelspec": {
   "display_name": "Python 3 (ipykernel)",
   "language": "python",
   "name": "python3"
  },
  "language_info": {
   "codemirror_mode": {
    "name": "ipython",
    "version": 3
   },
   "file_extension": ".py",
   "mimetype": "text/x-python",
   "name": "python",
   "nbconvert_exporter": "python",
   "pygments_lexer": "ipython3",
   "version": "3.10.9"
  }
 },
 "nbformat": 4,
 "nbformat_minor": 5
}
