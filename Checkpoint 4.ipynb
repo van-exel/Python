{
 "cells": [
  {
   "cell_type": "code",
   "execution_count": null,
   "id": "5ffa0362",
   "metadata": {},
   "outputs": [
    {
     "name": "stdout",
     "output_type": "stream",
     "text": [
      "Entrez le premier nombre : 13\n",
      "Entrez le deuxième nombre : 0\n",
      "Entrez un opérateur (+, -, *, /) : /\n",
      "Erreur : Division par zéro.\n"
     ]
    }
   ],
   "source": [
    "def calculatrice(num1, num2):\n",
    "    while True:\n",
    "        operator = input(\"Entrez un opérateur (+, -, *, /) : \")\n",
    "\n",
    "        if operator in ['+', '-', '*', '/']:\n",
    "            if operator == '+':\n",
    "                result = num1 + num2\n",
    "            elif operator == '-':\n",
    "                result = num1 - num2\n",
    "            elif operator == '*':\n",
    "                result = num1 * num2\n",
    "            else: \n",
    "                if num2 != 0:\n",
    "                    result = num1 / num2\n",
    "                else:\n",
    "                    print(\"Erreur : Division par zéro.\")\n",
    "                    continue  \n",
    "            return result\n",
    "        else:\n",
    "            print(\"Opérateur invalide.\")\n",
    "\n",
    "num1 = float(input(\"Entrez le premier nombre : \"))\n",
    "num2 = float(input(\"Entrez le deuxième nombre : \"))\n",
    "\n",
    "resultat = calculatrice(num1, num2)\n",
    "print(\"Résultat :\", resultat)"
   ]
  },
  {
   "cell_type": "code",
   "execution_count": null,
   "id": "18bca051",
   "metadata": {},
   "outputs": [],
   "source": []
  }
 ],
 "metadata": {
  "kernelspec": {
   "display_name": "Python 3 (ipykernel)",
   "language": "python",
   "name": "python3"
  },
  "language_info": {
   "codemirror_mode": {
    "name": "ipython",
    "version": 3
   },
   "file_extension": ".py",
   "mimetype": "text/x-python",
   "name": "python",
   "nbconvert_exporter": "python",
   "pygments_lexer": "ipython3",
   "version": "3.10.9"
  }
 },
 "nbformat": 4,
 "nbformat_minor": 5
}
